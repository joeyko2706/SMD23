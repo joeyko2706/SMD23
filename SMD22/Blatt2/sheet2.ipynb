{
 "cells": [
  {
   "cell_type": "markdown",
   "metadata": {},
   "source": [
    "# Blatt 02)\n",
    "Von Joel Koch, Joell Jones und Felix Symma"
   ]
  },
  {
   "cell_type": "markdown",
   "metadata": {},
   "source": [
    "## Aufgabe 3)\n",
    "\n",
    "Mögliche verschiedene Augenzahlen: $6 \\cdot 6=36$."
   ]
  },
  {
   "cell_type": "markdown",
   "metadata": {},
   "source": [
    "### Aufgabenteil a)\n",
    "Augenpaare, die $9$ ergeben:\n",
    "$9 = \\begin{cases} 3+6 \\\\4+5 \\\\ 5+4\\\\ 6+3\\end{cases}$\n",
    "$\\newline$\n",
    "Damit folgt die Wahrscheinlichkeit $P(W_\\text{red}+W_\\text{blue} = 9) = \\frac{4}{36} =\\frac{1}{9} \\approx 11,1\\%$"
   ]
  },
  {
   "cell_type": "markdown",
   "metadata": {},
   "source": [
    "### Aufgabenteil b)\n",
    "Zusätzlich zu den Augenpaaren aus Teil a):\n",
    "$10 \\leq \\begin{cases} 6+4\\\\ 5+5\\\\ 4+6\\\\ 6+5\\\\ 5+6\\\\ 6+6 \\end{cases}$\n",
    "$\\newline$\n",
    "Daraus folgt $P(W_\\text{red}+W_\\text{blue} \\geq 9) = \\frac{10}{36} \\approx 27,8\\%$"
   ]
  },
  {
   "cell_type": "markdown",
   "metadata": {},
   "source": [
    "### Aufgabenteil c)\n",
    "$P(W_\\text{red} = 4 \\wedge W_\\text{blue} = 5) + P(W_\\text{red} = 5 \\wedge W_\\text{blue} = 4) = \\frac{2}{36} = \\frac{1}{18} \\approx 5,6\\%$ "
   ]
  },
  {
   "cell_type": "markdown",
   "metadata": {},
   "source": [
    "### Aufgabenteil d)\n",
    "$P(W_\\text{red} = 4 \\wedge W_\\text{blue} = 5) = \\frac{1}{36} \\approx 2,8\\%$"
   ]
  },
  {
   "cell_type": "markdown",
   "metadata": {},
   "source": [
    "### Aufgabenteil e)\n",
    "$P(W_\\text{red} + W_\\text{blue} = 9 \\mid W_\\text{red} = 4) = P(W_\\text{blue} = 5) = \\frac{1}{6} \\approx 16,7\\%$"
   ]
  },
  {
   "cell_type": "markdown",
   "metadata": {},
   "source": [
    "### Aufgabenteil f)\n",
    "$P(W_\\text{red} + W_\\text{blue} \\geq 9 \\mid W_\\text{red} = 4) = P(W_\\text{blue} \\geq 5) = \\frac{2}{6} = \\frac{1}{3} \\approx 33,3\\%$"
   ]
  },
  {
   "cell_type": "markdown",
   "metadata": {},
   "source": [
    "### Aufgabenteil g)\n",
    "$P(W_\\text{red} = 4 \\wedge W_\\text{blue} = 5 \\mid W_\\text{red} = 4) = P(W_\\text{blue} = 5) = \\frac{1}{6} \\approx 16,7\\%$"
   ]
  },
  {
   "cell_type": "markdown",
   "metadata": {},
   "source": [
    "## Aufgabe 4)\n",
    "Die Normierungsbedingung $\\int\\limits_{- \\infty}^{\\infty} f(v) \\ \\mathrm{d}v = 1$ liefert $N = 6,1927 \\cdot 10^{32} \\sqrt{\\frac{m^3}{T^3}}$"
   ]
  },
  {
   "cell_type": "markdown",
   "metadata": {},
   "source": [
    "### Aufgabenteil a)\n",
    "Die wahrscheinlichste Geschwindigkeit lässt sich bestimmen als Hochpunkt bzw. Extremstelle von $f(v)$.\n",
    "$\\newline$\n",
    "Sie ist somit gegeben als $v = \\sqrt{\\frac{2k_\\text{B}T}{m}}$"
   ]
  },
  {
   "cell_type": "markdown",
   "metadata": {},
   "source": [
    "### Aufgabenteil b)\n",
    "$E[v] = \\int\\limits_{- \\infty}^{\\infty} v \\cdot f(v) \\ \\mathrm{d}v$"
   ]
  },
  {
   "cell_type": "markdown",
   "metadata": {},
   "source": [
    "### Aufgabenteil c)\n",
    "$\\int\\limits_{- \\infty}^{v_\\text{median}} f(v) \\ \\mathrm{d}v = 0,5$"
   ]
  }
 ],
 "metadata": {
  "kernelspec": {
   "display_name": "Python 3",
   "language": "python",
   "name": "python3"
  },
  "language_info": {
   "codemirror_mode": {
    "name": "ipython",
    "version": 3
   },
   "file_extension": ".py",
   "mimetype": "text/x-python",
   "name": "python",
   "nbconvert_exporter": "python",
   "pygments_lexer": "ipython3",
   "version": "3.8.8"
  }
 },
 "nbformat": 4,
 "nbformat_minor": 2
}
