{
 "cells": [
  {
   "cell_type": "markdown",
   "id": "6cdde9fe-6676-40a9-b222-8e104c9c98d6",
   "metadata": {},
   "source": [
    "# Exercise 1"
   ]
  },
  {
   "cell_type": "code",
   "execution_count": null,
   "id": "c0902d68-998e-4656-b256-8eabce4fce95",
   "metadata": {},
   "outputs": [],
   "source": [
    "# import libraries\n",
    "import numpy as np\n",
    "import matplotlib.pyplot as plt"
   ]
  },
  {
   "cell_type": "code",
   "execution_count": null,
   "id": "931a1a40-3698-415e-8329-ff3c9f9a9808",
   "metadata": {},
   "outputs": [],
   "source": [
    "# define functions given in the exercise\n",
    "def f(x):\n",
    "    return (x**3 +1/3)-(x**3 - 1/3)\n",
    "\n",
    "def g(x):\n",
    "    return ((3+x**(3)/3)-(3-x**(3)/3))/x**3"
   ]
  },
  {
   "cell_type": "markdown",
   "id": "ffece101-ca35-4994-9194-19a47c3cc0b8",
   "metadata": {},
   "source": [
    "## a)"
   ]
  },
  {
   "cell_type": "code",
   "execution_count": null,
   "id": "04958115-534e-444e-a50c-13e7ec0a3b8f",
   "metadata": {},
   "outputs": [],
   "source": [
    "# define range of x values\n",
    "n = 1000000000000000000000"
   ]
  },
  {
   "cell_type": "code",
   "execution_count": null,
   "id": "473ff892-2938-46a9-8aec-2e9204f1f9fd",
   "metadata": {},
   "outputs": [],
   "source": [
    "# print x value where the numerical solution deviates by 1% from the algebraic\n",
    "for x in range(n):\n",
    "    if(np.abs((f(x)-2/3)/(2/3)) > 0.01):\n",
    "        print('The numerical solution starts to deviate from the algebraic solution at x >= ', x)\n",
    "        break\n",
    "\n",
    "for x in range(n):\n",
    "    if(np.abs((f(-x)-2/3)/(2/3)) > 0.01):\n",
    "        print('The numerical solution starts to deviate from the algebraic solution at x =< ', x)\n",
    "        break"
   ]
  },
  {
   "cell_type": "code",
   "execution_count": null,
   "id": "f69d6e9e-6e41-4785-baaf-ccd9fb7b51f6",
   "metadata": {},
   "outputs": [],
   "source": [
    "# print x value where the numerical solution equals 0\n",
    "for x in range(n):\n",
    "    if(f(x)==0):\n",
    "        print('The numerical solution is equal to zero at x >= ', x)\n",
    "        break\n",
    "        \n",
    "for x in range(n):\n",
    "    if(f(-x)==0):\n",
    "        print('The numerical solution is equal to zero at x =< ', x)\n",
    "        break"
   ]
  },
  {
   "cell_type": "markdown",
   "id": "6dd657a0-1a55-4a26-b549-e2e43aef5ed5",
   "metadata": {},
   "source": [
    "## b)"
   ]
  },
  {
   "cell_type": "code",
   "execution_count": null,
   "id": "81ddee01-2985-4105-af35-0473097e7d19",
   "metadata": {},
   "outputs": [],
   "source": [
    "# print x value where the numerical solution deviates by 1% from the algebraic\n",
    "for x in range(1, n):\n",
    "    if(np.abs((g(1/x)-2/3)/(2/3)) > 0.01):\n",
    "        print('The numerical solution starts to deviate from the algebraic solution at x >= ', x)\n",
    "        break\n",
    "\n",
    "for x in range(1, n):\n",
    "    if(np.abs((g(-1/x)-2/3)/(2/3)) > 0.01):\n",
    "        print('The numerical solution starts to deviate from the algebraic solution at x =< ', x)\n",
    "        break"
   ]
  },
  {
   "cell_type": "code",
   "execution_count": null,
   "id": "9cb73d50-fc2c-450c-bddc-a04e370db151",
   "metadata": {},
   "outputs": [],
   "source": [
    "# print x value where the numerical solution equals 0\n",
    "for x in range(1, n):\n",
    "    if(g(1/x)==0):\n",
    "        print('The numerical solution is equal to zero at x >= ', 1/x)\n",
    "        break\n",
    "        \n",
    "for x in range(1, n):\n",
    "    if(g(-1/x)==0):\n",
    "        print('The numerical solution is equal to zero at x =< ', 1/x)\n",
    "        break"
   ]
  },
  {
   "cell_type": "markdown",
   "id": "a9a45ea4-e63e-4d15-85c7-b6aed60f9195",
   "metadata": {},
   "source": [
    "## c)"
   ]
  },
  {
   "cell_type": "code",
   "execution_count": null,
   "id": "4fc5c998-dc56-4e2d-a0bb-51b1cea4dd9b",
   "metadata": {},
   "outputs": [],
   "source": [
    "# Plot f(x)\n",
    "x = np.linspace(-100000, 100000, 100000)\n",
    "plt.plot(f(x), label=r'$f(x)$')\n",
    "plt.plot(x, 0*x + 2/3, label='algebraic solution')\n",
    "plt.xlim(0, 100000)\n",
    "plt.legend()\n",
    "plt.tight_layout()\n",
    "plt.show()"
   ]
  },
  {
   "cell_type": "code",
   "execution_count": null,
   "id": "f82eaf94-5cbc-48f2-aeda-901337f5a516",
   "metadata": {},
   "outputs": [],
   "source": [
    "# Plot g(x)\n",
    "x = np.linspace(-100000, 100000, 100000)\n",
    "plt.plot(g(1/x), label=r'$f(x)$')\n",
    "plt.plot(x, 0*x + 2/3, label='algebraic solution')\n",
    "plt.xlim(0, 100000)\n",
    "plt.legend()\n",
    "plt.tight_layout()\n",
    "plt.show()"
   ]
  },
  {
   "cell_type": "markdown",
   "id": "de71b18e-fdb7-443a-b12e-ce83e927a683",
   "metadata": {},
   "source": [
    "## d)"
   ]
  },
  {
   "cell_type": "code",
   "execution_count": null,
   "id": "caff6697-d478-407a-bfdd-d31e4ce80b58",
   "metadata": {},
   "outputs": [],
   "source": [
    "# Plot f(x)\n",
    "x32 = np.linspace(-100, 100, 100000, dtype='float32')\n",
    "x64 = np.linspace(-1000, 1000, 100000, dtype='float64')\n",
    "\n",
    "plt.subplot(1, 2, 1)\n",
    "plt.plot(f(x32), label=r'$f(x)$ with float32')\n",
    "plt.xlim(0, 100000)\n",
    "plt.legend(loc='lower center')\n",
    "plt.tight_layout()\n",
    "\n",
    "plt.subplot(1, 2, 2)\n",
    "plt.plot(f(x64), label=r'$f(x)$ with float64')\n",
    "plt.xlim(0, 100000)\n",
    "plt.legend(loc='lower center')\n",
    "plt.tight_layout()\n",
    "plt.show()"
   ]
  },
  {
   "cell_type": "code",
   "execution_count": null,
   "id": "82060e26-6091-4cd7-9fab-28a2a24b80a5",
   "metadata": {},
   "outputs": [],
   "source": [
    "# Plot g(x)\n",
    "x32 = np.linspace(-0.1, 0.1, 100000, dtype='float32')\n",
    "x64 = np.linspace(-0.0001, 0.0001, 100000, dtype='float64')\n",
    "\n",
    "plt.subplot(1, 2, 1)\n",
    "plt.plot(g(x32), label=r'$g(x)$ with float32')\n",
    "plt.xlim(25000, 75000)\n",
    "plt.legend()\n",
    "plt.tight_layout()\n",
    "\n",
    "plt.subplot(1, 2, 2)\n",
    "plt.plot(g(x64), label=r'$g(x)$ with float64')\n",
    "plt.xlim(25000, 75000)\n",
    "plt.legend()\n",
    "plt.tight_layout()\n",
    "plt.show()"
   ]
  },
  {
   "cell_type": "markdown",
   "id": "565bd546-730e-4e94-bad4-4c56b2debdb3",
   "metadata": {},
   "source": [
    "#### The float32 plot shows less numerical stable values than the float64 plot."
   ]
  },
  {
   "cell_type": "markdown",
   "id": "70a973a5-f1dd-4fd0-aece-c4fb286eacbe",
   "metadata": {},
   "source": [
    "# Exercise 2"
   ]
  },
  {
   "cell_type": "markdown",
   "id": "9752d52b-c6e6-4a98-ab12-a7faa7863582",
   "metadata": {},
   "source": [
    "## a)\n",
    "#### The function is numerically unstable for $\\theta \\rightarrow 0$. This is true for $E \\neq 0$."
   ]
  },
  {
   "cell_type": "code",
   "execution_count": null,
   "id": "664befd7-c300-4ba4-ac4e-ac3472672306",
   "metadata": {},
   "outputs": [],
   "source": [
    "# define mass\n",
    "m = 511e3\n",
    "\n",
    "#define functions\n",
    "def gamma(E):\n",
    "    return E/m\n",
    "\n",
    "def beta(E):\n",
    "    return np.sqrt(1-gamma(E)**(-2))\n",
    "\n",
    "def f(E, theta):\n",
    "    return (2+np.sin(theta)**2)/(1-(beta(E)**2)*(np.cos(theta)**2))"
   ]
  },
  {
   "cell_type": "markdown",
   "id": "93481c4d-b365-4ce7-8034-764ce98bf255",
   "metadata": {},
   "source": [
    "## b)\n",
    "#### $\\frac{2+\\sin^2 \\theta}{1-\\beta^2 \\cos^2 \\theta}$ can be transformed to\n",
    "#### $\\frac{2+sin^2 \\theta}{\\frac{1}{\\gamma^2}+(\\beta sin \\theta)^2}$ through using\n",
    "#### $cos^2 \\theta = 1 - sin^2 \\theta$ and $\\frac{1}{\\gamma^2}=1-\\beta^2$."
   ]
  },
  {
   "cell_type": "code",
   "execution_count": null,
   "id": "009da13a-7121-4af0-bdf9-8541bedd9b3a",
   "metadata": {},
   "outputs": [],
   "source": [
    "# define new function\n",
    "def f_new(E, theta):\n",
    "    return (2+np.sin(theta)**2)/(gamma(E)**(-2)+(beta(E)*np.sin(theta))**2)"
   ]
  },
  {
   "cell_type": "markdown",
   "id": "65389bcf-0afc-4167-a28a-1bec2502e147",
   "metadata": {},
   "source": [
    "## c)"
   ]
  },
  {
   "cell_type": "code",
   "execution_count": null,
   "id": "6373f35e-ef1f-40e5-b05d-cb3b9fabe450",
   "metadata": {},
   "outputs": [],
   "source": [
    "# plotting both functions in the critical interval\n",
    "x = np.linspace(-1e-7, 1e-7, 100000, dtype='float64')\n",
    "plt.plot(f(50e9, x), label='Numerically unstable function')\n",
    "plt.plot(f_new(50e9, x), label='Numerically stable function')\n",
    "plt.legend()\n",
    "plt.show()"
   ]
  },
  {
   "cell_type": "markdown",
   "id": "43e651bc-2fab-475c-bdb4-3f9393c3875a",
   "metadata": {},
   "source": [
    "## d)"
   ]
  },
  {
   "cell_type": "markdown",
   "id": "c232e60d-23a3-410d-9d90-2c1a34622099",
   "metadata": {},
   "source": [
    "The condition number is defined as,\n",
    "$$\n",
    "    K\\equiv \\left| \\theta\\cdot \\frac{f'(\\theta)}{f(\\theta)} \\right|.\n",
    "$$\n",
    "With $f(\\theta)$ being the numerically stable version and \n",
    "$$f'(\\theta)= \\frac{2\\cos(\\theta)\\left(\\frac{1}{\\gamma^2}+\\beta^2\\sin^2(\\theta)\\right)-\\left(2+\\sin^2(\\theta)\\right)\\left(2\\beta^2\\cos(\\theta)\\right)}{\\left(\\frac{1}{\\gamma^2}+\\beta^2\\sin^2(\\theta)\\right)}.$$\n",
    "Finally the condition number is given as,\n",
    "$$K=\\left|\\theta\\frac{f'(\\theta)}{f(\\theta)} \\right| = \\left| \\frac{2\\theta\\cos(\\theta)}{2+\\sin^2(\\theta)}-\\frac{2\\theta\\beta^2\\cos(\\theta)}{\\frac{1}{\\gamma^2}+(\\beta\\sin(\\theta))^2} \\right|.$$"
   ]
  },
  {
   "cell_type": "markdown",
   "id": "03e25920-bfb0-4774-88f9-dabff437a4f3",
   "metadata": {},
   "source": [
    "## e)"
   ]
  },
  {
   "cell_type": "code",
   "execution_count": null,
   "id": "ec7315a4-2691-4f88-b2b2-3a8a0cff56fa",
   "metadata": {},
   "outputs": [],
   "source": [
    "# define the condition number in code\n",
    "def cond_numb(E, theta):\n",
    "    return abs((2*theta*np.sin(theta))/(2+np.sin(theta)**2) - (2*theta * beta(E)**2 * np.cos(theta))/(1/(gamma(E)**2) + (beta(E)* np.sin(theta))**2)) \n",
    "\n",
    "x = np.linspace(0, np.pi, 1000)\n",
    "plt.plot(x, cond_numb(50e9, x), label=\"condition number for $E=50$ GeV\")\n",
    "\n",
    "# make the plot look more beautiful\n",
    "plt.xticks(np.arange(0, np.pi+0.001, step=np.pi/4), [r'$0$',r'$\\dfrac{\\pi}{4}$', r'$\\dfrac{\\pi}{2}$', r'$\\dfrac{3\\pi}{4}$', r'$\\pi$'])\n",
    "plt.xlim(0, np.pi)\n",
    "plt.yscale('log')\n",
    "plt.xlabel(r'$\\Theta$')\n",
    "plt.ylabel('K')\n",
    "plt.show()"
   ]
  },
  {
   "cell_type": "markdown",
   "id": "2adce06d-62de-4b77-96d5-f55724db9d57",
   "metadata": {},
   "source": [
    "## f)\n",
    "**Stability** is the influence of rounding errors for *inexact* computation, while **condition** is the propagation of initial uncertainties for *exact* comptation. \n",
    "To be more precise, the difference between stability and condition is that one describes the error for inexact (stability) and one the error for exact (condition) cumputation."
   ]
  },
  {
   "cell_type": "code",
   "execution_count": null,
   "id": "5edd8468-7f4a-43f8-8b48-4851796a1d2e",
   "metadata": {},
   "outputs": [],
   "source": []
  }
 ],
 "metadata": {
  "kernelspec": {
   "display_name": "Python 3 (ipykernel)",
   "language": "python",
   "name": "python3"
  },
  "language_info": {
   "codemirror_mode": {
    "name": "ipython",
    "version": 3
   },
   "file_extension": ".py",
   "mimetype": "text/x-python",
   "name": "python",
   "nbconvert_exporter": "python",
   "pygments_lexer": "ipython3",
   "version": "3.9.12"
  }
 },
 "nbformat": 4,
 "nbformat_minor": 5
}
