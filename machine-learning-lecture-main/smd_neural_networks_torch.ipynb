{
 "cells": [
  {
   "cell_type": "markdown",
   "id": "2a42f6dc",
   "metadata": {},
   "source": [
    "# Short Introduction to Neural Networks and Deep Learning with Pytorch"
   ]
  },
  {
   "cell_type": "code",
   "execution_count": 1,
   "id": "44c3dedb",
   "metadata": {},
   "outputs": [
    {
     "data": {
      "application/javascript": [
       "$.getScript('https://kmahelona.github.io/ipython_notebook_goodies/ipython_notebook_toc.js')\n"
      ],
      "text/plain": [
       "<IPython.core.display.Javascript object>"
      ]
     },
     "metadata": {},
     "output_type": "display_data"
    }
   ],
   "source": [
    "%%javascript\n",
    "$.getScript('https://kmahelona.github.io/ipython_notebook_goodies/ipython_notebook_toc.js')"
   ]
  },
  {
   "cell_type": "markdown",
   "id": "b1fea58a",
   "metadata": {},
   "source": [
    "<h1 id=\"tocheading\">Table of Contents</h1>\n",
    "<div id=\"toc\"></div>"
   ]
  },
  {
   "cell_type": "code",
   "execution_count": 2,
   "id": "2d86167c",
   "metadata": {},
   "outputs": [],
   "source": [
    "import matplotlib.pyplot as plt\n",
    "import numpy as np\n",
    "\n",
    "from tqdm.auto import tqdm\n",
    "\n",
    "import torch\n",
    "from torch import nn\n",
    "from torch.utils.data import DataLoader\n",
    "from torchvision import datasets\n",
    "from torchvision.transforms import ToTensor, Resize, Compose"
   ]
  },
  {
   "cell_type": "code",
   "execution_count": 3,
   "id": "1ead697a",
   "metadata": {},
   "outputs": [],
   "source": [
    "%matplotlib widget"
   ]
  },
  {
   "cell_type": "markdown",
   "id": "53b553b9",
   "metadata": {},
   "source": [
    "# How to define a Neural Network Architecture in Torch\n",
    "\n",
    "To declare a new Network architecture, we create a new class inheriting from `torch.nn.Model`.\n",
    "\n",
    "The simplest way to declare a Network architecture is to declare the sequence of layers using `torch.nn.Sequential`\n",
    "in `__init__` and we have to implement the `forward` pass. The rest is taken care of by torch (gradients, backword propagation, ...) automagically.\n",
    "\n",
    "Torch builds a computational graph, that can be executed (on different devices) and transformed (e.g. calculate the gradient)."
   ]
  },
  {
   "cell_type": "code",
   "execution_count": 4,
   "id": "ff06fc7b",
   "metadata": {},
   "outputs": [],
   "source": [
    "class FullyConnected(nn.Module):\n",
    "    \n",
    "    def __init__(self):\n",
    "        super().__init__()\n",
    "        \n",
    "        self.fc = nn.Sequential(\n",
    "            nn.Linear(8 * 8 * 1, 128),\n",
    "            nn.ReLU(),\n",
    "            nn.Linear(128, 128),\n",
    "            nn.ReLU(),\n",
    "            nn.Linear(128, 10),\n",
    "            nn.Softmax(dim=1)\n",
    "        )\n",
    "        self.flatten = nn.Flatten()\n",
    "        \n",
    "    def forward(self, x):\n",
    "        # x.shape = (batchsize, 1, 8, 8)\n",
    "        x = self.flatten(x)\n",
    "        x = self.fc(x)\n",
    "        return x"
   ]
  },
  {
   "cell_type": "code",
   "execution_count": 5,
   "id": "17f6b9e2",
   "metadata": {},
   "outputs": [
    {
     "data": {
      "text/plain": [
       "FullyConnected(\n",
       "  (fc): Sequential(\n",
       "    (0): Linear(in_features=64, out_features=128, bias=True)\n",
       "    (1): ReLU()\n",
       "    (2): Linear(in_features=128, out_features=128, bias=True)\n",
       "    (3): ReLU()\n",
       "    (4): Linear(in_features=128, out_features=10, bias=True)\n",
       "    (5): Softmax(dim=1)\n",
       "  )\n",
       "  (flatten): Flatten(start_dim=1, end_dim=-1)\n",
       ")"
      ]
     },
     "execution_count": 5,
     "metadata": {},
     "output_type": "execute_result"
    }
   ],
   "source": [
    "FullyConnected()"
   ]
  },
  {
   "cell_type": "markdown",
   "id": "f842e09a",
   "metadata": {},
   "source": [
    "Now we are building a more flexible model, were we can pass some options:"
   ]
  },
  {
   "cell_type": "code",
   "execution_count": 6,
   "id": "479c7554",
   "metadata": {},
   "outputs": [
    {
     "data": {
      "text/plain": [
       "FullyConnected(\n",
       "  (flatten): Flatten(start_dim=1, end_dim=-1)\n",
       "  (fc_stack): Sequential(\n",
       "    (0): BatchNorm1d(7500, eps=1e-05, momentum=0.1, affine=True, track_running_stats=True)\n",
       "    (1): Linear(in_features=7500, out_features=256, bias=True)\n",
       "    (2): BatchNorm1d(256, eps=1e-05, momentum=0.1, affine=True, track_running_stats=True)\n",
       "    (3): Dropout(p=0.25, inplace=False)\n",
       "    (4): LeakyReLU(negative_slope=0.01)\n",
       "    (5): Linear(in_features=256, out_features=256, bias=True)\n",
       "    (6): BatchNorm1d(256, eps=1e-05, momentum=0.1, affine=True, track_running_stats=True)\n",
       "    (7): Dropout(p=0.25, inplace=False)\n",
       "    (8): LeakyReLU(negative_slope=0.01)\n",
       "    (9): Linear(in_features=256, out_features=2, bias=True)\n",
       "    (10): Softmax(dim=1)\n",
       "  )\n",
       ")"
      ]
     },
     "execution_count": 6,
     "metadata": {},
     "output_type": "execute_result"
    }
   ],
   "source": [
    "class FullyConnected(nn.Module):\n",
    "    def __init__(self, input_size, n_classes, dropout=0.25, n_hidden=256):\n",
    "        super().__init__()\n",
    "        self.flatten = nn.Flatten()\n",
    "        \n",
    "        self.fc_stack = nn.Sequential(\n",
    "            nn.BatchNorm1d(input_size),\n",
    "            # First Hidden Layer\n",
    "            nn.Linear(input_size, n_hidden),\n",
    "            nn.BatchNorm1d(n_hidden),\n",
    "            nn.Dropout(dropout),\n",
    "            nn.LeakyReLU(),\n",
    "\n",
    "            \n",
    "            # Second Hidden Layer\n",
    "            nn.Linear(n_hidden, n_hidden),\n",
    "            nn.BatchNorm1d(n_hidden),\n",
    "            nn.Dropout(dropout),\n",
    "            nn.LeakyReLU(),\n",
    "            \n",
    "            # Output Layer\n",
    "            nn.Linear(n_hidden, n_classes),\n",
    "            nn.Softmax(dim=1),\n",
    "        )\n",
    "\n",
    "    def forward(self, x):\n",
    "        x = self.flatten(x)\n",
    "        x = self.fc_stack(x)\n",
    "        return x\n",
    "    \n",
    "FullyConnected(input_size=3 * 50 * 50, n_classes=2)"
   ]
  },
  {
   "cell_type": "markdown",
   "id": "5f24277b",
   "metadata": {},
   "source": [
    "# Training\n",
    "\n",
    "Unfortunately, training the network is not as simple as calling `fit` like in sklearn.\n",
    "Torch is a very flexible framework, and we have to decide for the data loader, loss function, the optimizer, the model, device and how we evaluate the performance on the test data set.\n",
    "\n",
    "In the end, we are going to write our own `fit` function, to make it simpler."
   ]
  },
  {
   "cell_type": "code",
   "execution_count": 7,
   "id": "435aef2a",
   "metadata": {},
   "outputs": [
    {
     "name": "stdout",
     "output_type": "stream",
     "text": [
      "Using cpu device\n"
     ]
    }
   ],
   "source": [
    "# device = \"cpu\"\n",
    "# uncomment to use GPU if available\n",
    "# CPU offers better debugging\n",
    "DEVICE = \"cuda\" if torch.cuda.is_available() else \"cpu\"\n",
    "print(\"Using {} device\".format(DEVICE))"
   ]
  },
  {
   "cell_type": "code",
   "execution_count": 8,
   "id": "1a43b6fa",
   "metadata": {},
   "outputs": [],
   "source": [
    "def train(dataloader, model, loss_fn, optimizer, device=DEVICE):    \n",
    "    model = model.to(device)\n",
    "    model.train()\n",
    "    \n",
    "    losses = []\n",
    "    for X, y in dataloader:\n",
    "        X, y = X.to(device), y.to(device)\n",
    "               \n",
    "        # Compute prediction error\n",
    "        pred = model(X)\n",
    "        loss = loss_fn(pred, y)\n",
    "       \n",
    "        # Backpropagation\n",
    "        optimizer.zero_grad()\n",
    "        loss.backward()\n",
    "        optimizer.step()\n",
    "        \n",
    "        # store loss for plotting\n",
    "        losses.append(loss.item())\n",
    "    return losses\n",
    "\n",
    "            \n",
    "def test(dataloader, model, loss_fn, device=DEVICE):\n",
    "    model = model.to(device)\n",
    "    test_losses = []\n",
    "    with torch.no_grad():\n",
    "        model.eval()\n",
    "        for X, y in dataloader:\n",
    "            X, y = X.to(device), y.to(device)\n",
    "            pred = model(X)\n",
    "            test_losses.append(loss_fn(pred, y).item())\n",
    "\n",
    "    return test_losses\n",
    "\n",
    "\n",
    "def fit_one_epoch(train_dataloader, test_dataloader, model, loss_fn, optimizer, device=DEVICE):\n",
    "    train_losses = train(train_dataloader, model, loss_fn, optimizer, device)\n",
    "    test_losses = test(test_dataloader, model, loss_fn, device)\n",
    "    return train_losses, test_losses\n",
    "\n",
    "\n",
    "def accuracy(dataloader, model, device=DEVICE):\n",
    "    correct = 0\n",
    "    total = 0\n",
    "    model = model.to(device)\n",
    "    with torch.no_grad():\n",
    "        model.eval()\n",
    "        for X, y in dataloader:\n",
    "            X, y = X.to(device), y.to(device)\n",
    "            pred = model(X)\n",
    "            total += len(y)\n",
    "            correct += (pred.argmax(1) == y).type(torch.float).sum().item()\n",
    "    return correct / total\n",
    "\n",
    "\n",
    "def predictions(dataloader, model, device=DEVICE):\n",
    "    predictions = []\n",
    "    truth = []\n",
    "    model = model.to(device)\n",
    "    with torch.no_grad():\n",
    "        model.eval()\n",
    "        for X, y in dataloader:\n",
    "            X, y = X.to(device), y.to(device)\n",
    "            predictions.append(model(X).argmax(1))\n",
    "            truth.append(y)\n",
    "    return torch.cat(predictions), torch.cat(truth)\n",
    "\n",
    "\n",
    "def report_accuracy(test_dataloader, train_dataloader, model):\n",
    "    accuracy_test = accuracy(test_dataloader, model)\n",
    "    accuracy_train = accuracy(train_dataloader, model)\n",
    "    print(f'Accuracy: train={accuracy_train:5.1%}, test={accuracy_test:5.1%}')"
   ]
  },
  {
   "cell_type": "markdown",
   "id": "91cfebec",
   "metadata": {},
   "source": [
    "# MNIST"
   ]
  },
  {
   "cell_type": "code",
   "execution_count": 9,
   "id": "4dca0824",
   "metadata": {},
   "outputs": [
    {
     "name": "stdout",
     "output_type": "stream",
     "text": [
      "Downloading http://yann.lecun.com/exdb/mnist/train-images-idx3-ubyte.gz\n",
      "Downloading http://yann.lecun.com/exdb/mnist/train-images-idx3-ubyte.gz to data/MNIST/raw/train-images-idx3-ubyte.gz\n"
     ]
    },
    {
     "name": "stderr",
     "output_type": "stream",
     "text": [
      "100%|██████████████████████████████████████████████████████████████████████████████| 9912422/9912422 [00:00<00:00, 16413060.92it/s]\n"
     ]
    },
    {
     "name": "stdout",
     "output_type": "stream",
     "text": [
      "Extracting data/MNIST/raw/train-images-idx3-ubyte.gz to data/MNIST/raw\n",
      "\n",
      "Downloading http://yann.lecun.com/exdb/mnist/train-labels-idx1-ubyte.gz\n",
      "Downloading http://yann.lecun.com/exdb/mnist/train-labels-idx1-ubyte.gz to data/MNIST/raw/train-labels-idx1-ubyte.gz\n"
     ]
    },
    {
     "name": "stderr",
     "output_type": "stream",
     "text": [
      "100%|██████████████████████████████████████████████████████████████████████████████████| 28881/28881 [00:00<00:00, 42533600.36it/s]"
     ]
    },
    {
     "name": "stdout",
     "output_type": "stream",
     "text": [
      "Extracting data/MNIST/raw/train-labels-idx1-ubyte.gz to data/MNIST/raw\n",
      "\n",
      "Downloading http://yann.lecun.com/exdb/mnist/t10k-images-idx3-ubyte.gz\n"
     ]
    },
    {
     "name": "stderr",
     "output_type": "stream",
     "text": [
      "\n"
     ]
    },
    {
     "name": "stdout",
     "output_type": "stream",
     "text": [
      "Downloading http://yann.lecun.com/exdb/mnist/t10k-images-idx3-ubyte.gz to data/MNIST/raw/t10k-images-idx3-ubyte.gz\n"
     ]
    },
    {
     "name": "stderr",
     "output_type": "stream",
     "text": [
      "100%|███████████████████████████████████████████████████████████████████████████████| 1648877/1648877 [00:00<00:00, 8452836.92it/s]\n"
     ]
    },
    {
     "name": "stdout",
     "output_type": "stream",
     "text": [
      "Extracting data/MNIST/raw/t10k-images-idx3-ubyte.gz to data/MNIST/raw\n",
      "\n",
      "Downloading http://yann.lecun.com/exdb/mnist/t10k-labels-idx1-ubyte.gz\n",
      "Downloading http://yann.lecun.com/exdb/mnist/t10k-labels-idx1-ubyte.gz to data/MNIST/raw/t10k-labels-idx1-ubyte.gz\n"
     ]
    },
    {
     "name": "stderr",
     "output_type": "stream",
     "text": [
      "100%|█████████████████████████████████████████████████████████████████████████████████████| 4542/4542 [00:00<00:00, 3117415.93it/s]"
     ]
    },
    {
     "name": "stdout",
     "output_type": "stream",
     "text": [
      "Extracting data/MNIST/raw/t10k-labels-idx1-ubyte.gz to data/MNIST/raw\n",
      "\n"
     ]
    },
    {
     "name": "stderr",
     "output_type": "stream",
     "text": [
      "\n"
     ]
    }
   ],
   "source": [
    "mnist_train = datasets.MNIST(\n",
    "    root=\"data\",\n",
    "    train=True,\n",
    "    transform=Compose([Resize((16, 16)), ToTensor()]),\n",
    "    download=True,\n",
    ")\n",
    "\n",
    "mnist_test = datasets.MNIST(\n",
    "    root=\"data\",\n",
    "    train=False,\n",
    "    transform=Compose([Resize((16, 16)), ToTensor()]),\n",
    "    download=True,\n",
    "\n",
    ")"
   ]
  },
  {
   "cell_type": "code",
   "execution_count": 10,
   "id": "b5f71853",
   "metadata": {},
   "outputs": [
    {
     "name": "stdout",
     "output_type": "stream",
     "text": [
      "Shape of X:  torch.Size([64, 1, 16, 16])\n",
      "Shape of y:  torch.Size([64])\n"
     ]
    }
   ],
   "source": [
    "batch_size = 64\n",
    "\n",
    "train_dataloader = DataLoader(mnist_train, batch_size=batch_size, shuffle=True)\n",
    "test_dataloader = DataLoader(mnist_test, batch_size=batch_size, shuffle=True)\n",
    "\n",
    "\n",
    "# get first batch\n",
    "X, y = next(iter(test_dataloader))\n",
    "\n",
    "print(\"Shape of X: \", X.shape)\n",
    "print(\"Shape of y: \", y.shape)"
   ]
  },
  {
   "cell_type": "code",
   "execution_count": 11,
   "id": "c5bed474",
   "metadata": {},
   "outputs": [
    {
     "data": {
      "application/vnd.jupyter.widget-view+json": {
       "model_id": "52974f3b5e2544c89ab7ab3e903a4834",
       "version_major": 2,
       "version_minor": 0
      },
      "image/png": "[encoded data removed]",
      "text/html": [
       "\n",
       "            <div style=\"display: inline-block;\">\n",
       "                <div class=\"jupyter-widgets widget-label\" style=\"text-align: center;\">\n",
       "                    Figure\n",
       "                </div>\n",
       "                <img src='data:image/png;base64,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' width=900.0/>\n",
       "            </div>\n",
       "        "
      ],
      "text/plain": [
       "Canvas(toolbar=Toolbar(toolitems=[('Home', 'Reset original view', 'home', 'home'), ('Back', 'Back to previous …"
      ]
     },
     "metadata": {},
     "output_type": "display_data"
    }
   ],
   "source": [
    "fig, axs = plt.subplots(2, 5, figsize=(9, 3), constrained_layout=True)\n",
    "\n",
    "for i, ax in enumerate(axs.flat):\n",
    "    ax.imshow(X[i, 0], cmap='gray')"
   ]
  },
  {
   "cell_type": "code",
   "execution_count": null,
   "id": "87f11b66",
   "metadata": {},
   "outputs": [],
   "source": [
    "model = FullyConnected(\n",
    "    input_size=X[0].shape.numel(),\n",
    "    n_classes=len(mnist_train.classes),\n",
    "    n_hidden=256,\n",
    "    dropout=0.25,\n",
    ")\n",
    "\n",
    "loss_fn = nn.CrossEntropyLoss()\n",
    "optimizer = torch.optim.AdamW(model.parameters())\n",
    "\n",
    "\n",
    "epochs = 20\n",
    "test_losses = []\n",
    "train_losses = []\n",
    "report_accuracy(test_dataloader, train_dataloader, model)\n",
    "for t in tqdm(range(epochs)):\n",
    "    epoch_loss_train, epoch_loss_test = fit_one_epoch(\n",
    "        train_dataloader, test_dataloader, model, loss_fn, optimizer\n",
    "    )\n",
    "    train_losses.append(epoch_loss_train)\n",
    "    test_losses.append(epoch_loss_test)\n",
    "    report_accuracy(test_dataloader, train_dataloader, model)\n",
    "    \n",
    "print(\"Done!\")"
   ]
  },
  {
   "cell_type": "code",
   "execution_count": null,
   "id": "4f50fc2e",
   "metadata": {},
   "outputs": [],
   "source": [
    "def plot_losses(train_losses, test_losses):\n",
    "    plt.figure()\n",
    "    \n",
    "    for i, (label, losses) in enumerate(zip((\"Train\", \"Test\"), (train_losses, test_losses))):\n",
    "        losses = np.array(losses)\n",
    "       \n",
    "        x = np.linspace(0, len(losses), losses.size)\n",
    "        plt.plot(x, losses.ravel(), label=f'Loss {label}', color=f'C{i}', alpha=0.5)\n",
    "                \n",
    "        mean_loss = losses.mean(axis=1)\n",
    "        x = np.arange(0.5, len(mean_loss))\n",
    "        plt.plot(x, mean_loss, label=f'Mean Epoch Loss {label}', color=f'C{i}', zorder=3)\n",
    "        \n",
    "    plt.xlabel('Epoch')\n",
    "    plt.legend()"
   ]
  },
  {
   "cell_type": "code",
   "execution_count": null,
   "id": "5bf4e9ae",
   "metadata": {},
   "outputs": [],
   "source": [
    "plot_losses(train_losses, test_losses)\n",
    "plt.yscale('log')"
   ]
  },
  {
   "cell_type": "markdown",
   "id": "6a6fee71",
   "metadata": {},
   "source": [
    "# CIFAR-10"
   ]
  },
  {
   "cell_type": "code",
   "execution_count": null,
   "id": "91821c11",
   "metadata": {},
   "outputs": [],
   "source": [
    "cifar10_train = datasets.CIFAR10(\n",
    "    root=\"data\",\n",
    "    train=True,\n",
    "    transform=ToTensor(),\n",
    "    download=True,\n",
    ")\n",
    "\n",
    "cifar10_test = datasets.CIFAR10(\n",
    "    root=\"data\",\n",
    "    train=False,\n",
    "    transform=ToTensor(),\n",
    "    download=True,\n",
    ")"
   ]
  },
  {
   "cell_type": "code",
   "execution_count": null,
   "id": "763c9611",
   "metadata": {},
   "outputs": [],
   "source": [
    "batch_size = 64\n",
    "\n",
    "train_dataloader = DataLoader(cifar10_train, batch_size=batch_size)\n",
    "test_dataloader = DataLoader(cifar10_test, batch_size=batch_size)\n",
    "\n",
    "# get first batch\n",
    "X, y = next(iter(test_dataloader))\n",
    "\n",
    "print(\"Shape of X: \", X.shape)\n",
    "print(\"Shape of y: \", y.shape)"
   ]
  },
  {
   "cell_type": "code",
   "execution_count": null,
   "id": "fc54c5a2",
   "metadata": {
    "scrolled": false
   },
   "outputs": [],
   "source": [
    "fig, axs = plt.subplots(4, 4, figsize=(9, 9), constrained_layout=True)\n",
    "\n",
    "for idx, ax in enumerate(axs.flat):\n",
    "    img = np.swapaxes(X[idx + 16], 1, 2).T\n",
    "    \n",
    "\n",
    "    ax.set_title(cifar10_train.classes[y[idx + 16]])\n",
    "    ax.imshow(img)\n",
    "    ax.set_axis_off()"
   ]
  },
  {
   "cell_type": "code",
   "execution_count": null,
   "id": "42d95256",
   "metadata": {},
   "outputs": [],
   "source": [
    "model = FullyConnected(\n",
    "    input_size=X[0].shape.numel(),\n",
    "    n_classes=len(cifar10_train.classes),\n",
    ")"
   ]
  },
  {
   "cell_type": "code",
   "execution_count": null,
   "id": "e30310f4",
   "metadata": {},
   "outputs": [],
   "source": [
    "loss_fn = nn.CrossEntropyLoss()\n",
    "optimizer = torch.optim.Adam(model.parameters(), lr=1e-3)\n",
    "\n",
    "\n",
    "test_losses = []\n",
    "train_losses = []\n",
    "\n",
    "\n",
    "report_accuracy(test_dataloader, train_dataloader, model)\n",
    "\n",
    "epochs = 15\n",
    "for t in tqdm(range(epochs)):\n",
    "    epoch_loss_train, epoch_loss_test = fit_one_epoch(\n",
    "        train_dataloader, test_dataloader, model, loss_fn, optimizer\n",
    "    )\n",
    "    train_losses.append(epoch_loss_train)\n",
    "    test_losses.append(epoch_loss_test)\n",
    "    report_accuracy(test_dataloader, train_dataloader, model)\n",
    "    \n",
    "print(\"Done!\")"
   ]
  },
  {
   "cell_type": "code",
   "execution_count": null,
   "id": "5310d293",
   "metadata": {},
   "outputs": [],
   "source": [
    "plot_losses(train_losses, test_losses)\n",
    "plt.yscale('log')"
   ]
  },
  {
   "cell_type": "markdown",
   "id": "7d0f93bc",
   "metadata": {},
   "source": [
    "We do not get much better than 50 % with a fully connected network.\n",
    "\n",
    "Let's try a deep learning network with convolutional layers. The architecture follows the one proposed here:\n",
    "https://arxiv.org/abs/1409.1556\n",
    "\n",
    "> Very Deep Convolutional Networks for Large-Scale Image Recognition  \n",
    "> Karen Simonyan, Andrew Zisserman\n",
    "\n",
    "> In this work we investigate the effect of the convolutional network depth on its accuracy in the large-scale image recognition setting. Our main contribution is a thorough evaluation of networks of increasing depth using an architecture with very small (3x3) convolution filters, which shows that a significant improvement on the prior-art configurations can be achieved by pushing the depth to 16-19 weight layers. These findings were the basis of our ImageNet Challenge 2014 submission, where our team secured the first and the second places in the localisation and classification tracks respectively. We also show that our representations generalise well to other datasets, where they achieve state-of-the-art results. We have made our two best-performing ConvNet models publicly available to facilitate further research on the use of deep visual representations in computer vision. "
   ]
  },
  {
   "cell_type": "code",
   "execution_count": null,
   "id": "cc77cdf1",
   "metadata": {},
   "outputs": [],
   "source": [
    "class ConvolutionalNetwork(nn.Module):\n",
    "    def __init__(self):\n",
    "        super().__init__()\n",
    "        \n",
    "        self.conv_stack = nn.Sequential(\n",
    "            # 1st stack of conv layers\n",
    "            nn.Conv2d(3, 32, kernel_size=(3, 3), padding='same'),\n",
    "            nn.Conv2d(32, 32, kernel_size=(3, 3), padding='same'),\n",
    "            nn.BatchNorm2d(32),\n",
    "            nn.LeakyReLU(),\n",
    "            nn.MaxPool2d(kernel_size=2, stride=2),\n",
    "            nn.Dropout(0.25),\n",
    "            \n",
    "            # 2nd stack\n",
    "            nn.Conv2d(32, 64, kernel_size=(3, 3), padding='same'),\n",
    "            nn.Conv2d(64, 64, kernel_size=(3, 3), padding='same'),\n",
    "            nn.BatchNorm2d(64),\n",
    "            nn.LeakyReLU(),\n",
    "            nn.MaxPool2d(kernel_size=2, stride=2),\n",
    "            nn.Dropout(0.25),\n",
    "            \n",
    "            # 3rd stack\n",
    "            nn.Conv2d(64, 128, kernel_size=(3, 3), padding='same'),\n",
    "            nn.Conv2d(128, 128, kernel_size=(3, 3), padding='same'),\n",
    "            nn.BatchNorm2d(128),\n",
    "            nn.LeakyReLU(),\n",
    "            nn.MaxPool2d(kernel_size=2, stride=2),\n",
    "            nn.Dropout(0.25),\n",
    "        )\n",
    "        \n",
    "        self.flatten = nn.Flatten()\n",
    "        \n",
    "        self.linear_relu_stack = nn.Sequential(\n",
    "            nn.Linear(128 * 4 * 4, 128),\n",
    "            nn.Dropout(0.25),\n",
    "            nn.LeakyReLU(),\n",
    "            nn.Linear(128, 10),\n",
    "            nn.Softmax(dim=1),\n",
    "        )\n",
    "\n",
    "    def forward(self, x):\n",
    "        x = self.conv_stack(x)\n",
    "        x = self.flatten(x)\n",
    "        x = self.linear_relu_stack(x)\n",
    "        return x"
   ]
  },
  {
   "cell_type": "code",
   "execution_count": null,
   "id": "6cedbcc4",
   "metadata": {},
   "outputs": [],
   "source": [
    "model = ConvolutionalNetwork()"
   ]
  },
  {
   "cell_type": "code",
   "execution_count": null,
   "id": "4388223d",
   "metadata": {},
   "outputs": [],
   "source": [
    "loss_fn = nn.CrossEntropyLoss()\n",
    "optimizer = torch.optim.AdamW(model.parameters())\n",
    "\n",
    "test_losses = []\n",
    "train_losses = []"
   ]
  },
  {
   "cell_type": "code",
   "execution_count": null,
   "id": "787fde22",
   "metadata": {},
   "outputs": [],
   "source": [
    "epochs = 25\n",
    "\n",
    "\n",
    "report_accuracy(test_dataloader, train_dataloader, model)\n",
    "\n",
    "for t in tqdm(range(epochs)):\n",
    "    epoch_loss_train, epoch_loss_test = fit_one_epoch(\n",
    "        train_dataloader, test_dataloader, model, loss_fn, optimizer\n",
    "    )\n",
    "    train_losses.append(epoch_loss_train)\n",
    "    test_losses.append(epoch_loss_test)\n",
    "    report_accuracy(test_dataloader, train_dataloader, model)\n",
    "    \n",
    "print(\"Done!\")"
   ]
  },
  {
   "cell_type": "code",
   "execution_count": null,
   "id": "c820f23d",
   "metadata": {},
   "outputs": [],
   "source": [
    "plot_losses(train_losses=train_losses, test_losses=test_losses)"
   ]
  },
  {
   "cell_type": "code",
   "execution_count": null,
   "id": "b221de1f",
   "metadata": {},
   "outputs": [],
   "source": [
    "prediction, y = predictions(test_dataloader, model)"
   ]
  },
  {
   "cell_type": "code",
   "execution_count": null,
   "id": "0f1da51d",
   "metadata": {},
   "outputs": [],
   "source": [
    "from sklearn.metrics import confusion_matrix\n",
    "\n",
    "\n",
    "classes = ('plane', 'car', 'bird', 'cat',\n",
    "           'deer', 'dog', 'frog', 'horse', 'ship', 'truck')\n",
    "\n",
    "matrix = confusion_matrix(y.cpu().numpy(), prediction.cpu().numpy())\n",
    "matrix = np.divide(matrix, matrix.sum(axis = 1))\n",
    "\n",
    "plt.matshow(matrix)\n",
    "plt.xticks(np.arange(len(classes)), classes)\n",
    "plt.yticks(np.arange(len(classes)), classes)\n",
    "plt.colorbar()\n",
    "None"
   ]
  }
 ],
 "metadata": {
  "kernelspec": {
   "display_name": "Python 3 (ipykernel)",
   "language": "python",
   "name": "python3"
  },
  "language_info": {
   "codemirror_mode": {
    "name": "ipython",
    "version": 3
   },
   "file_extension": ".py",
   "mimetype": "text/x-python",
   "name": "python",
   "nbconvert_exporter": "python",
   "pygments_lexer": "ipython3",
   "version": "3.10.12"
  }
 },
 "nbformat": 4,
 "nbformat_minor": 5
}
